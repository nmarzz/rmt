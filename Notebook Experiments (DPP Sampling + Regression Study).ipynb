{
 "cells": [
  {
   "cell_type": "markdown",
   "metadata": {},
   "source": [
    "# Can we correctly produce a DPP?\n",
    "\n",
    "And then sample from it. We want to get the kernel from data first."
   ]
  },
  {
   "cell_type": "code",
   "execution_count": null,
   "metadata": {},
   "outputs": [],
   "source": [
    "import numpy as np\n",
    "import matplotlib.pyplot as plt\n",
    "import scipy.linalg\n",
    "import sklearn.metrics\n",
    "\n",
    "# This gives P(A \\subset Y) = det(K_A)\n",
    "def corr_k(K,points):\n",
    "    Kp = K[points][:,points]\n",
    "\n",
    "    if len(Kp.shape) > 1: \n",
    "        return np.linalg.det(Kp)\n",
    "    else:\n",
    "        return K\n",
    "\n",
    "def select_eigenvalues_from_L(eig_vals):\n",
    "    N = len(eig_vals)\n",
    "    indices = np.arange(N)\n",
    "    bern_probs = eig_vals / (eig_vals + 1)\n",
    "    \n",
    "    selected_indices = np.random.rand(N) <= bern_probs\n",
    "            \n",
    "    return indices[selected_indices]\n",
    "    \n",
    "def select_samples_from_L(eig_vecs):\n",
    "    samples = [] \n",
    "    N, n_samples = V.shape\n",
    "    indices = np.arange(N)    \n",
    "    avail = np.ones(N, dtype=bool) \n",
    "    \n",
    "    c = np.zeros((N, n_samples)) # Used for Gram-Schmidt\n",
    "    normVT2 = (V**2).sum(axis = 1)\n",
    "    \n",
    "    for i in range(n_samples):\n",
    "        probs = normVT2[avail] / (n_samples - i)  \n",
    "        probs[probs < 0] = 0 # Compensate for small negatives due to round off\n",
    "        j = np.random.choice(indices[avail], p=probs)\n",
    "\n",
    "        samples.append(j)\n",
    "        avail[j] = False\n",
    "        # Cancel the contribution of V^T_j to the remaining feature vectors\n",
    "        c[:, i] = (V @ V[j, :] - c[:, 0:i] @ c[j, 0:i]) / np.sqrt(normVT2[j])\n",
    "        normVT2[:] -= c[:, i]**2\n",
    "\n",
    "    return np.array(samples)\n",
    "\n",
    "\n",
    "# K-DPP sampling requires computation of elementary symmetric polynomials\n",
    "def elementary_symmetric_polynomial(k, eig_vals):\n",
    "    N = len(eig_vals)\n",
    "    \n",
    "    e = np.zeros([k + 1, N + 1])\n",
    "    e[0, :] = 1.0\n",
    "\n",
    "    for l in range(1, k + 1):\n",
    "        for n in range(1, N + 1):\n",
    "            e[l, n] = e[l, n - 1] + eig_vals[n - 1] * e[l - 1, n - 1]\n",
    "    return e\n",
    "\n",
    "def select_k_eigenvalues_from_L(k,eig_vals):\n",
    "\n",
    "    e = elementary_symmetric_polynomial(k,eig_vals)\n",
    "    N = len(eig_vals)\n",
    "\n",
    "    sample_idx = []\n",
    "    for n in range(N,0,-1):\n",
    "        thresh = eig_vals[n-1] * e[k-1,n-1] / e[k,n]\n",
    "        if np.random.rand() <= thresh:\n",
    "            sample_idx.append(n-1)\n",
    "            k -= 1\n",
    "            if k == 0:\n",
    "                break\n",
    "\n",
    "    return sample_idx    \n"
   ]
  },
  {
   "cell_type": "code",
   "execution_count": null,
   "metadata": {},
   "outputs": [],
   "source": [
    "# Generate the points that we sample from\n",
    "line = np.linspace(0,1,10)\n",
    "x,y = np.meshgrid(line,line)\n",
    "d = np.stack([x.flatten(), y.flatten()], axis = 1)\n",
    "\n",
    "# Kernel is exp( -||d_i - d_j||^2 / N). This is an L-ensemble\n",
    "dist = np.linalg.norm(d[:,None,:] - d[None,:,:],axis = -1)\n",
    "N = d.shape[-1]\n",
    "\n",
    "\n",
    "##### SINE KERNEL\n",
    "div_val = 30\n",
    "L = np.sin(np.pi * dist / div_val) / (np.pi * dist / div_val) \n",
    "L[np.isnan(L)] = 1 # sin(x)/x = 1\n",
    "\n",
    "\n",
    "############################### For sampling\n",
    "##### Get EigenValues\n",
    "eig_vals, eig_vecs = np.linalg.eigh(L)\n",
    "\n",
    "\n",
    "##### Calculate marginal kernel (K)\n",
    "K = eig_vecs @ np.diag(eig_vals / (eig_vals + 1)) @ eig_vecs.T\n",
    "\n",
    "print('N')\n",
    "print(N)\n",
    "\n",
    "print('Expected Cardinality of Samples')\n",
    "print(np.sum( eig_vals / (eig_vals + 1)))\n",
    "\n",
    "print('Variance of Cardinality Samples')\n",
    "print(np.sum( eig_vals / (eig_vals + 1)**2 ))\n",
    "\n",
    "print('Eigenvalues')\n",
    "print(eig_vals[0:10])"
   ]
  },
  {
   "cell_type": "code",
   "execution_count": null,
   "metadata": {},
   "outputs": [],
   "source": [
    "# What is the probability of each point with no points selected\n",
    "colors = np.diag(K)\n",
    "plt.scatter(d[:,0],d[:,1],c = colors, cmap = 'gray')\n",
    "plt.axis('off')\n",
    "plt.show()\n",
    "\n",
    "point_idx = []\n",
    "vals_to_add = np.array([90,9,99,0, 45])\n",
    "# vals_to_add = vals_to_add * 25 \n",
    "for val in vals_to_add:\n",
    "    point_idx.append(val)\n",
    "    # Ok, we have a point. Now the probabilities are updated \n",
    "\n",
    "    # Bust out some bayes: p(a|b) = p(a and b) / p(b)\n",
    "    # p(a and b) = K[point_idx,point_idx] K[i,i] - (K[i,point_idx])**2\n",
    "    # p(b) = K[point_idx,point_idx]\n",
    "\n",
    "    def corr_k(K,points):\n",
    "        Kp = K[points][:,points]\n",
    "\n",
    "        if len(Kp.shape) > 1: \n",
    "            return np.linalg.det(Kp)\n",
    "        else:\n",
    "            return K\n",
    "\n",
    "\n",
    "    p = []\n",
    "    idxs = []\n",
    "    for i in range(d.shape[0]):\n",
    "        points = [i]\n",
    "        points.extend(point_idx)\n",
    "        if i in point_idx:\n",
    "            continue        \n",
    "        idxs.append(i)\n",
    "        prob = corr_k(K,points) / corr_k(K,point_idx)\n",
    "        p.append(prob)\n",
    "    \n",
    "    plt.scatter(d[idxs,0],d[idxs,1],c = p, cmap = 'gray')\n",
    "    plt.scatter(d[point_idx,0],d[point_idx,1] ,color = 'red')\n",
    "    plt.axis('off')\n",
    "    plt.show()"
   ]
  },
  {
   "cell_type": "code",
   "execution_count": 4,
   "metadata": {},
   "outputs": [
    {
     "data": {
      "image/png": "[encoded data removed]",
      "text/plain": [
       "<Figure size 432x288 with 1 Axes>"
      ]
     },
     "metadata": {
      "needs_background": "light"
     },
     "output_type": "display_data"
    }
   ],
   "source": [
    "##### Sample from DPP in a two stage process\n",
    "# Select eigenvectors\n",
    "vec_idx = select_eigenvalues_from_L(eig_vals) \n",
    "V = eig_vecs[:,vec_idx]\n",
    "\n",
    "# Select samples from eigenvalues\n",
    "sample_idx = select_samples_from_L(V)\n",
    "\n",
    "samples = d[sample_idx,:]\n",
    "\n",
    "\n",
    "n = d.shape[0]\n",
    "\n",
    "p_samples = np.random.choice(n,size = len(samples))\n",
    "p_samples = d[p_samples,:]\n",
    "\n",
    "plt.scatter(d[:,0],d[:,1], color = 'yellow')\n",
    "plt.scatter(samples[:,0], samples[:,1], color = 'red')\n",
    "# plt.show()\n",
    "\n",
    "plt.scatter(p_samples[:,0], p_samples[:,1], color = 'blue')\n",
    "\n",
    "\n",
    "plt.axis('off')\n",
    "\n",
    "plt.show()\n"
   ]
  },
  {
   "cell_type": "markdown",
   "metadata": {},
   "source": [
    "# Sampling from k-DPPs\n",
    "\n",
    "\n",
    "DPPs provide a flexible way of modeling the content of sets of random points. However, it is not straightforward to have strict control over the cardinality of these sets. Thus, we turn to $k$-DPPs. $k$-DPPs are DPPs conditional on the DPP containing $k$ points. \n",
    "\n",
    "The conditional probabilities of the $k$-DPPs are not DPPs aside from some simple cases. However, there exist efficient methods to sample from them none the less. Here, we implement methods to sample from $k$-DPPs.\n",
    "\n",
    "\n",
    "\n",
    "\n",
    "\n",
    "\n",
    "One major drawback of sampling $k$-DPPs is that it requires the spectral decomposition of of $L,K$ matrices. There are methods for sampling from $DPPs$ that rely on the Cholesky decomposition — side-stepping $n^3$ spectral decomposition. \n",
    "\n",
    "This paper: https://arxiv.org/pdf/2006.16947.pdf\n",
    "\n",
    "Might have a better way of sampling from $k$-DPPs but it's a significantly more involved process and less efficient for small problems.\n"
   ]
  },
  {
   "cell_type": "code",
   "execution_count": 5,
   "metadata": {},
   "outputs": [
    {
     "data": {
      "image/png": "[encoded data removed]",
      "text/plain": [
       "<Figure size 432x288 with 1 Axes>"
      ]
     },
     "metadata": {
      "needs_background": "light"
     },
     "output_type": "display_data"
    }
   ],
   "source": [
    "# Sample from a k-DPP - Notice that red points are more spread out\n",
    "\n",
    "k = 5\n",
    "vec_idx = select_k_eigenvalues_from_L(k,eig_vals) \n",
    "V = eig_vecs[:,vec_idx]\n",
    "\n",
    "# Select samples from eigenvalues\n",
    "sample_idx = select_samples_from_L(V)\n",
    "samples = d[sample_idx,:]\n",
    "\n",
    "\n",
    "n = d.shape[0]\n",
    "\n",
    "p_samples = np.random.choice(n,size = len(samples))\n",
    "p_samples = d[p_samples,:]\n",
    "\n",
    "plt.scatter(d[:,0],d[:,1], color = 'yellow')\n",
    "plt.scatter(samples[:,0], samples[:,1], color = 'red')\n",
    "# plt.show()\n",
    "\n",
    "plt.scatter(p_samples[:,0], p_samples[:,1], color = 'blue')\n",
    "\n",
    "plt.axis('off')\n",
    "plt.show()"
   ]
  },
  {
   "cell_type": "code",
   "execution_count": 6,
   "metadata": {},
   "outputs": [
    {
     "data": {
      "image/png": "[encoded data removed]",
      "text/plain": [
       "<Figure size 432x288 with 1 Axes>"
      ]
     },
     "metadata": {
      "needs_background": "light"
     },
     "output_type": "display_data"
    }
   ],
   "source": [
    "##### Conditional probabilities given the k-DPP sample above\n",
    "\n",
    "point_idx = sample_idx[:-1].tolist()\n",
    "next_realized_point = [sample_idx[-1].tolist()]\n",
    "\n",
    "p = []\n",
    "idxs = []\n",
    "for i in range(d.shape[0]):\n",
    "    points = [i]\n",
    "    points.extend(point_idx)\n",
    "    if i in point_idx:\n",
    "        continue        \n",
    "    idxs.append(i)\n",
    "    prob = corr_k(K,points) / corr_k(K,point_idx)\n",
    "    p.append(prob)\n",
    "\n",
    "plt.scatter(d[idxs,0],d[idxs,1],c = p, cmap = 'gray') # Plot probabilities\n",
    "plt.scatter(d[point_idx,0],d[point_idx,1] ,color = 'red') # Plot conditioning points\n",
    "plt.scatter(d[next_realized_point,0],d[next_realized_point,1] ,color = 'blue') # Plot conditioning points\n",
    "plt.axis('off')\n",
    "plt.show()"
   ]
  },
  {
   "cell_type": "markdown",
   "metadata": {},
   "source": [
    "# Linear Regression with duplicated input variables\n",
    "\n",
    "Related to the proof.   "
   ]
  },
  {
   "cell_type": "code",
   "execution_count": 346,
   "metadata": {},
   "outputs": [
    {
     "name": "stdout",
     "output_type": "stream",
     "text": [
      "Coefficients found via Regression\n",
      "[3.8208719  3.88685153 7.34094599 8.45141622 5.72838271 1.20863138\n",
      " 4.25687366 4.47058342 7.74663386 8.3515691 ]\n",
      "True coefficients\n",
      "[3.7096272  3.56035115 7.6821249  8.81632679 5.83897429 0.67717729\n",
      " 4.03884516 4.42837983 8.05126591 8.70672425]\n",
      "Score value\n"
     ]
    },
    {
     "data": {
      "text/plain": [
       "0.9966774790677928"
      ]
     },
     "execution_count": 346,
     "metadata": {},
     "output_type": "execute_result"
    }
   ],
   "source": [
    "# First we have to build a linear regression problem.\n",
    "from sklearn.linear_model import LinearRegression\n",
    "d = 10\n",
    "n = 10000\n",
    "sigma = 0.1 # The noise associated with our labels: y = <theta, x> + w, w ~ N(0,sigma^2)\n",
    "theta = np.random.rand(d)* 10 # We'll seek to estimate this theta\n",
    "\n",
    "X = np.random.rand(n,d) # Our true data\n",
    "noisy_X =  X + 0.1 * np.random.randn(X.shape[0],X.shape[1])\n",
    "y = (X @ theta) + sigma * np.random.randn(n)\n",
    "\n",
    "# Check we can solve it well\n",
    "reg = LinearRegression(fit_intercept = False)\n",
    "reg.fit(noisy_X, y)\n",
    "print('Coefficients found via Regression')\n",
    "print(reg.coef_)\n",
    "print('True coefficients')\n",
    "print(theta)\n",
    "print('Score value')\n",
    "reg.score(X, y)"
   ]
  },
  {
   "cell_type": "code",
   "execution_count": 351,
   "metadata": {},
   "outputs": [],
   "source": [
    "# Ok, we can learn well. That's good. Let's simulate our problem\n",
    "# Need to duplicate our variables\n",
    "Z = np.concatenate([X,X], axis = 1)\n",
    "\n",
    "## Add noise to them\n",
    "Z = Z + 0.01 * np.random.randn(Z.shape[0],Z.shape[1])\n",
    "\n",
    "# And shuffle them \n",
    "np.random.shuffle(Z.transpose()) # Now Z represents our redundant data"
   ]
  },
  {
   "cell_type": "code",
   "execution_count": 352,
   "metadata": {},
   "outputs": [
    {
     "name": "stdout",
     "output_type": "stream",
     "text": [
      "These are the columns that we are selecting\n",
      "[ 8  5  9  1  2  7 14 10 18 11]\n",
      "They correspond to the variables\n",
      "[8 5 9 1 2 7 4 0 8 1]\n",
      "Coefficients found via Regression\n",
      "[ 1.66245406  2.04308709 10.30534764  6.10364685  9.23634726  6.12032411\n",
      "  7.36524934  5.31063782  7.92890424 -1.02902625]\n",
      "True coefficients\n",
      "[3.7096272  3.56035115 7.6821249  8.81632679 5.83897429 0.67717729\n",
      " 4.03884516 4.42837983 8.05126591 8.70672425]\n",
      "Score value\n"
     ]
    },
    {
     "data": {
      "text/plain": [
       "0.7021270575048436"
      ]
     },
     "execution_count": 352,
     "metadata": {},
     "output_type": "execute_result"
    }
   ],
   "source": [
    "# Now, let's try the k-bernoulli selection of d columns\n",
    "selected_columns = np.random.choice(d*2, size = d, replace = False)\n",
    "## These are the columns you are selecting\n",
    "print('These are the columns that we are selecting')\n",
    "print(selected_columns)    \n",
    "print('They correspond to the variables')\n",
    "print(selected_columns % d)\n",
    "    \n",
    "Xhat = Z[:,selected_columns]  \n",
    "\n",
    "\n",
    "# Check we can solve it well\n",
    "reg = LinearRegression(fit_intercept = False)\n",
    "reg.fit(Xhat, y)\n",
    "print('Coefficients found via Regression')\n",
    "print(reg.coef_)\n",
    "print('True coefficients')\n",
    "print(theta)\n",
    "print('Score value')\n",
    "reg.score(Xhat, y)"
   ]
  },
  {
   "cell_type": "code",
   "execution_count": 353,
   "metadata": {},
   "outputs": [
    {
     "name": "stdout",
     "output_type": "stream",
     "text": [
      "These are the columns that we are selecting\n",
      "[15 11  7  9  0 18  6 12 13 14]\n",
      "They correspond to the variables\n",
      "[5 1 7 9 0 8 6 2 3 4]\n",
      "Coefficients found via Regression\n",
      "[0.68065072 3.56223639 4.42954053 8.70963632 3.7185315  8.05363553\n",
      " 4.02842133 7.68084529 8.80531886 5.84201543]\n",
      "True coefficients\n",
      "[3.7096272  3.56035115 7.6821249  8.81632679 5.83897429 0.67717729\n",
      " 4.03884516 4.42837983 8.05126591 8.70672425]\n",
      "Score value\n"
     ]
    },
    {
     "data": {
      "text/plain": [
       "0.9984921148045173"
      ]
     },
     "execution_count": 353,
     "metadata": {},
     "output_type": "execute_result"
    }
   ],
   "source": [
    "## Ok, now let's select the variables that we keep according to a DPP\n",
    "dist = np.linalg.norm(Z.transpose()[:,None,:] - Z.transpose()[None,:,:],axis = -1)\n",
    "L = np.exp(- 40 * dist**2 / Z.shape[0] ) \n",
    "eig_vals, eig_vecs = np.linalg.eigh(L)\n",
    "vec_idx = select_k_eigenvalues_from_L(d,eig_vals) \n",
    "V = eig_vecs[:,vec_idx]\n",
    "# Select samples from eigenvalues\n",
    "selected_columns = select_samples_from_L(V)\n",
    "\n",
    "## These are the columns you are selecting\n",
    "print('These are the columns that we are selecting')\n",
    "print(selected_columns)    \n",
    "print('They correspond to the variables')\n",
    "print(selected_columns % d)\n",
    "    \n",
    "Xhat = Z[:,selected_columns]  \n",
    "\n",
    "\n",
    "# Check we can solve it well\n",
    "reg = LinearRegression(fit_intercept = False)\n",
    "reg.fit(Xhat, y)\n",
    "print('Coefficients found via Regression')\n",
    "print(reg.coef_)\n",
    "print('True coefficients')\n",
    "print(theta)\n",
    "print('Score value')\n",
    "reg.score(Xhat, y)"
   ]
  }
 ],
 "metadata": {
  "kernelspec": {
   "display_name": "Python 3",
   "language": "python",
   "name": "python3"
  },
  "language_info": {
   "codemirror_mode": {
    "name": "ipython",
    "version": 3
   },
   "file_extension": ".py",
   "mimetype": "text/x-python",
   "name": "python",
   "nbconvert_exporter": "python",
   "pygments_lexer": "ipython3",
   "version": "3.6.13"
  }
 },
 "nbformat": 4,
 "nbformat_minor": 5
}
